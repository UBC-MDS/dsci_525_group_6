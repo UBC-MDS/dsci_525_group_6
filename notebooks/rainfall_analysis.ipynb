{
 "cells": [
  {
   "cell_type": "code",
   "execution_count": 1,
   "id": "elect-phenomenon",
   "metadata": {
    "hideCode": false,
    "hidePrompt": false
   },
   "outputs": [],
   "source": [
    "import requests\n",
    "import zipfile\n",
    "import pandas as pd \n",
    "import glob\n",
    "from memory_profiler import memory_usage "
   ]
  },
  {
   "cell_type": "code",
   "execution_count": 3,
   "id": "adult-today",
   "metadata": {
    "hideCode": false,
    "hidePrompt": false
   },
   "outputs": [],
   "source": [
    "import os"
   ]
  },
  {
   "cell_type": "code",
   "execution_count": 4,
   "id": "correct-august",
   "metadata": {
    "hideCode": false,
    "hidePrompt": false
   },
   "outputs": [
    {
     "name": "stderr",
     "output_type": "stream",
     "text": [
      "D:\\Anaconda3\\envs\\525\\lib\\site-packages\\rpy2\\robjects\\packages.py:366: UserWarning: The symbol 'quartz' is not in this R namespace/package.\n",
      "  warnings.warn(\n"
     ]
    }
   ],
   "source": [
    "%load_ext rpy2.ipython \n",
    "%load_ext memory_profiler "
   ]
  },
  {
   "cell_type": "code",
   "execution_count": 5,
   "id": "hungarian-frank",
   "metadata": {
    "hideCode": false,
    "hidePrompt": false
   },
   "outputs": [],
   "source": [
    "file_id = 26766812\n",
    "x = requests.get(f'https://api.figshare.com/v2/file/download/{file_id}')"
   ]
  },
  {
   "cell_type": "code",
   "execution_count": 6,
   "id": "stylish-dubai",
   "metadata": {
    "hideCode": false,
    "hidePrompt": false
   },
   "outputs": [
    {
     "data": {
      "text/plain": [
       "814041183"
      ]
     },
     "execution_count": 6,
     "metadata": {},
     "output_type": "execute_result"
    }
   ],
   "source": [
    "open('data.zip', 'wb').write(x.content)"
   ]
  },
  {
   "cell_type": "code",
   "execution_count": 7,
   "id": "convinced-apollo",
   "metadata": {
    "hideCode": false,
    "hidePrompt": false
   },
   "outputs": [],
   "source": [
    "with zipfile.ZipFile('data.zip', 'r') as zip_ref:\n",
    "    zip_ref.extractall('data_extracted')"
   ]
  },
  {
   "cell_type": "code",
   "execution_count": 26,
   "id": "competent-conviction",
   "metadata": {
    "hideCode": false,
    "hidePrompt": false
   },
   "outputs": [
    {
     "data": {
      "text/plain": [
       "['ACCESS-CM2_daily_rainfall_NSW.csv',\n",
       " 'ACCESS-ESM1-5_daily_rainfall_NSW.csv',\n",
       " 'AWI-ESM-1-1-LR_daily_rainfall_NSW.csv',\n",
       " 'BCC-CSM2-MR_daily_rainfall_NSW.csv',\n",
       " 'BCC-ESM1_daily_rainfall_NSW.csv',\n",
       " 'CanESM5_daily_rainfall_NSW.csv',\n",
       " 'CMCC-CM2-HR4_daily_rainfall_NSW.csv',\n",
       " 'CMCC-CM2-SR5_daily_rainfall_NSW.csv',\n",
       " 'CMCC-ESM2_daily_rainfall_NSW.csv',\n",
       " 'EC-Earth3-Veg-LR_daily_rainfall_NSW.csv',\n",
       " 'FGOALS-f3-L_daily_rainfall_NSW.csv',\n",
       " 'FGOALS-g3_daily_rainfall_NSW.csv',\n",
       " 'GFDL-CM4_daily_rainfall_NSW.csv',\n",
       " 'GFDL-ESM4_daily_rainfall_NSW.csv',\n",
       " 'INM-CM4-8_daily_rainfall_NSW.csv',\n",
       " 'INM-CM5-0_daily_rainfall_NSW.csv',\n",
       " 'KIOST-ESM_daily_rainfall_NSW.csv',\n",
       " 'MIROC6_daily_rainfall_NSW.csv',\n",
       " 'MPI-ESM-1-2-HAM_daily_rainfall_NSW.csv',\n",
       " 'MPI-ESM1-2-HR_daily_rainfall_NSW.csv',\n",
       " 'MPI-ESM1-2-LR_daily_rainfall_NSW.csv',\n",
       " 'MRI-ESM2-0_daily_rainfall_NSW.csv',\n",
       " 'NESM3_daily_rainfall_NSW.csv',\n",
       " 'NorESM2-LM_daily_rainfall_NSW.csv',\n",
       " 'NorESM2-MM_daily_rainfall_NSW.csv',\n",
       " 'observed_daily_rainfall_SYD.csv',\n",
       " 'SAM0-UNICON_daily_rainfall_NSW.csv',\n",
       " 'TaiESM1_daily_rainfall_NSW.csv']"
      ]
     },
     "execution_count": 26,
     "metadata": {},
     "output_type": "execute_result"
    }
   ],
   "source": [
    "[file for file in os.listdir(\"data_extracted\") if \".csv\" in file]"
   ]
  },
  {
   "cell_type": "code",
   "execution_count": 20,
   "id": "ranking-spouse",
   "metadata": {
    "hideCode": false,
    "hidePrompt": false
   },
   "outputs": [],
   "source": [
    "# csvfiles = []\n",
    "# for file in glob.glob(\"data_extracted\" + os.path.sep + \"*.csv\"):\n",
    "#     csvfiles.append(file)"
   ]
  },
  {
   "cell_type": "code",
   "execution_count": 27,
   "id": "divine-beads",
   "metadata": {},
   "outputs": [],
   "source": [
    "csvfiles =  [file for file in os.listdir(\"data_extracted\") if \".csv\" in file]"
   ]
  },
  {
   "cell_type": "code",
   "execution_count": 28,
   "id": "hazardous-fireplace",
   "metadata": {
    "hideCode": false,
    "hidePrompt": false
   },
   "outputs": [
    {
     "data": {
      "text/plain": [
       "['ACCESS-CM2_daily_rainfall_NSW.csv',\n",
       " 'ACCESS-ESM1-5_daily_rainfall_NSW.csv',\n",
       " 'AWI-ESM-1-1-LR_daily_rainfall_NSW.csv',\n",
       " 'BCC-CSM2-MR_daily_rainfall_NSW.csv',\n",
       " 'BCC-ESM1_daily_rainfall_NSW.csv',\n",
       " 'CanESM5_daily_rainfall_NSW.csv',\n",
       " 'CMCC-CM2-HR4_daily_rainfall_NSW.csv',\n",
       " 'CMCC-CM2-SR5_daily_rainfall_NSW.csv',\n",
       " 'CMCC-ESM2_daily_rainfall_NSW.csv',\n",
       " 'EC-Earth3-Veg-LR_daily_rainfall_NSW.csv',\n",
       " 'FGOALS-f3-L_daily_rainfall_NSW.csv',\n",
       " 'FGOALS-g3_daily_rainfall_NSW.csv',\n",
       " 'GFDL-CM4_daily_rainfall_NSW.csv',\n",
       " 'GFDL-ESM4_daily_rainfall_NSW.csv',\n",
       " 'INM-CM4-8_daily_rainfall_NSW.csv',\n",
       " 'INM-CM5-0_daily_rainfall_NSW.csv',\n",
       " 'KIOST-ESM_daily_rainfall_NSW.csv',\n",
       " 'MIROC6_daily_rainfall_NSW.csv',\n",
       " 'MPI-ESM-1-2-HAM_daily_rainfall_NSW.csv',\n",
       " 'MPI-ESM1-2-HR_daily_rainfall_NSW.csv',\n",
       " 'MPI-ESM1-2-LR_daily_rainfall_NSW.csv',\n",
       " 'MRI-ESM2-0_daily_rainfall_NSW.csv',\n",
       " 'NESM3_daily_rainfall_NSW.csv',\n",
       " 'NorESM2-LM_daily_rainfall_NSW.csv',\n",
       " 'NorESM2-MM_daily_rainfall_NSW.csv',\n",
       " 'observed_daily_rainfall_SYD.csv',\n",
       " 'SAM0-UNICON_daily_rainfall_NSW.csv',\n",
       " 'TaiESM1_daily_rainfall_NSW.csv']"
      ]
     },
     "execution_count": 28,
     "metadata": {},
     "output_type": "execute_result"
    }
   ],
   "source": [
    "csvfiles"
   ]
  },
  {
   "cell_type": "code",
   "execution_count": 30,
   "id": "abandoned-jamaica",
   "metadata": {
    "hideCode": false,
    "hidePrompt": false
   },
   "outputs": [
    {
     "name": "stdout",
     "output_type": "stream",
     "text": [
      "peak memory: 1061.02 MiB, increment: 0.00 MiB\n",
      "Wall time: 1min 51s\n"
     ]
    }
   ],
   "source": [
    "%%time\n",
    "%memit\n",
    "big_df = []\n",
    "count = 0\n",
    "for csvfile in csvfiles:\n",
    "    count +=1\n",
    "    df = pd.read_csv(\"./data_extracted/\"+csvfile, index_col=None, header=0)\n",
    "    df['model'] = csvfile.split(\"_\")[0] \n",
    "    big_df.append(df)\n",
    "\n",
    "frame = pd.concat(big_df, axis=0, ignore_index=True)"
   ]
  },
  {
   "cell_type": "code",
   "execution_count": 31,
   "id": "developmental-greene",
   "metadata": {
    "hideCode": false,
    "hidePrompt": false
   },
   "outputs": [
    {
     "data": {
      "text/html": [
       "<div>\n",
       "<style scoped>\n",
       "    .dataframe tbody tr th:only-of-type {\n",
       "        vertical-align: middle;\n",
       "    }\n",
       "\n",
       "    .dataframe tbody tr th {\n",
       "        vertical-align: top;\n",
       "    }\n",
       "\n",
       "    .dataframe thead th {\n",
       "        text-align: right;\n",
       "    }\n",
       "</style>\n",
       "<table border=\"1\" class=\"dataframe\">\n",
       "  <thead>\n",
       "    <tr style=\"text-align: right;\">\n",
       "      <th></th>\n",
       "      <th>time</th>\n",
       "      <th>lat_min</th>\n",
       "      <th>lat_max</th>\n",
       "      <th>lon_min</th>\n",
       "      <th>lon_max</th>\n",
       "      <th>rain (mm/day)</th>\n",
       "      <th>model</th>\n",
       "    </tr>\n",
       "  </thead>\n",
       "  <tbody>\n",
       "    <tr>\n",
       "      <th>0</th>\n",
       "      <td>1889-01-01 12:00:00</td>\n",
       "      <td>-36.250000</td>\n",
       "      <td>-35.00000</td>\n",
       "      <td>140.625</td>\n",
       "      <td>142.500</td>\n",
       "      <td>3.293256e-13</td>\n",
       "      <td>ACCESS-CM2</td>\n",
       "    </tr>\n",
       "    <tr>\n",
       "      <th>1</th>\n",
       "      <td>1889-01-02 12:00:00</td>\n",
       "      <td>-36.250000</td>\n",
       "      <td>-35.00000</td>\n",
       "      <td>140.625</td>\n",
       "      <td>142.500</td>\n",
       "      <td>0.000000e+00</td>\n",
       "      <td>ACCESS-CM2</td>\n",
       "    </tr>\n",
       "    <tr>\n",
       "      <th>2</th>\n",
       "      <td>1889-01-03 12:00:00</td>\n",
       "      <td>-36.250000</td>\n",
       "      <td>-35.00000</td>\n",
       "      <td>140.625</td>\n",
       "      <td>142.500</td>\n",
       "      <td>0.000000e+00</td>\n",
       "      <td>ACCESS-CM2</td>\n",
       "    </tr>\n",
       "    <tr>\n",
       "      <th>3</th>\n",
       "      <td>1889-01-04 12:00:00</td>\n",
       "      <td>-36.250000</td>\n",
       "      <td>-35.00000</td>\n",
       "      <td>140.625</td>\n",
       "      <td>142.500</td>\n",
       "      <td>0.000000e+00</td>\n",
       "      <td>ACCESS-CM2</td>\n",
       "    </tr>\n",
       "    <tr>\n",
       "      <th>4</th>\n",
       "      <td>1889-01-05 12:00:00</td>\n",
       "      <td>-36.250000</td>\n",
       "      <td>-35.00000</td>\n",
       "      <td>140.625</td>\n",
       "      <td>142.500</td>\n",
       "      <td>1.047658e-02</td>\n",
       "      <td>ACCESS-CM2</td>\n",
       "    </tr>\n",
       "    <tr>\n",
       "      <th>...</th>\n",
       "      <td>...</td>\n",
       "      <td>...</td>\n",
       "      <td>...</td>\n",
       "      <td>...</td>\n",
       "      <td>...</td>\n",
       "      <td>...</td>\n",
       "      <td>...</td>\n",
       "    </tr>\n",
       "    <tr>\n",
       "      <th>62513858</th>\n",
       "      <td>2014-12-27 12:00:00</td>\n",
       "      <td>-30.157068</td>\n",
       "      <td>-29.21466</td>\n",
       "      <td>153.125</td>\n",
       "      <td>154.375</td>\n",
       "      <td>5.543748e-01</td>\n",
       "      <td>TaiESM1</td>\n",
       "    </tr>\n",
       "    <tr>\n",
       "      <th>62513859</th>\n",
       "      <td>2014-12-28 12:00:00</td>\n",
       "      <td>-30.157068</td>\n",
       "      <td>-29.21466</td>\n",
       "      <td>153.125</td>\n",
       "      <td>154.375</td>\n",
       "      <td>7.028577e+00</td>\n",
       "      <td>TaiESM1</td>\n",
       "    </tr>\n",
       "    <tr>\n",
       "      <th>62513860</th>\n",
       "      <td>2014-12-29 12:00:00</td>\n",
       "      <td>-30.157068</td>\n",
       "      <td>-29.21466</td>\n",
       "      <td>153.125</td>\n",
       "      <td>154.375</td>\n",
       "      <td>2.347570e-01</td>\n",
       "      <td>TaiESM1</td>\n",
       "    </tr>\n",
       "    <tr>\n",
       "      <th>62513861</th>\n",
       "      <td>2014-12-30 12:00:00</td>\n",
       "      <td>-30.157068</td>\n",
       "      <td>-29.21466</td>\n",
       "      <td>153.125</td>\n",
       "      <td>154.375</td>\n",
       "      <td>2.097459e+00</td>\n",
       "      <td>TaiESM1</td>\n",
       "    </tr>\n",
       "    <tr>\n",
       "      <th>62513862</th>\n",
       "      <td>2014-12-31 12:00:00</td>\n",
       "      <td>-30.157068</td>\n",
       "      <td>-29.21466</td>\n",
       "      <td>153.125</td>\n",
       "      <td>154.375</td>\n",
       "      <td>5.484206e-01</td>\n",
       "      <td>TaiESM1</td>\n",
       "    </tr>\n",
       "  </tbody>\n",
       "</table>\n",
       "<p>62513863 rows × 7 columns</p>\n",
       "</div>"
      ],
      "text/plain": [
       "                         time    lat_min   lat_max  lon_min  lon_max  \\\n",
       "0         1889-01-01 12:00:00 -36.250000 -35.00000  140.625  142.500   \n",
       "1         1889-01-02 12:00:00 -36.250000 -35.00000  140.625  142.500   \n",
       "2         1889-01-03 12:00:00 -36.250000 -35.00000  140.625  142.500   \n",
       "3         1889-01-04 12:00:00 -36.250000 -35.00000  140.625  142.500   \n",
       "4         1889-01-05 12:00:00 -36.250000 -35.00000  140.625  142.500   \n",
       "...                       ...        ...       ...      ...      ...   \n",
       "62513858  2014-12-27 12:00:00 -30.157068 -29.21466  153.125  154.375   \n",
       "62513859  2014-12-28 12:00:00 -30.157068 -29.21466  153.125  154.375   \n",
       "62513860  2014-12-29 12:00:00 -30.157068 -29.21466  153.125  154.375   \n",
       "62513861  2014-12-30 12:00:00 -30.157068 -29.21466  153.125  154.375   \n",
       "62513862  2014-12-31 12:00:00 -30.157068 -29.21466  153.125  154.375   \n",
       "\n",
       "          rain (mm/day)       model  \n",
       "0          3.293256e-13  ACCESS-CM2  \n",
       "1          0.000000e+00  ACCESS-CM2  \n",
       "2          0.000000e+00  ACCESS-CM2  \n",
       "3          0.000000e+00  ACCESS-CM2  \n",
       "4          1.047658e-02  ACCESS-CM2  \n",
       "...                 ...         ...  \n",
       "62513858   5.543748e-01     TaiESM1  \n",
       "62513859   7.028577e+00     TaiESM1  \n",
       "62513860   2.347570e-01     TaiESM1  \n",
       "62513861   2.097459e+00     TaiESM1  \n",
       "62513862   5.484206e-01     TaiESM1  \n",
       "\n",
       "[62513863 rows x 7 columns]"
      ]
     },
     "execution_count": 31,
     "metadata": {},
     "output_type": "execute_result"
    }
   ],
   "source": [
    "frame"
   ]
  },
  {
   "cell_type": "code",
   "execution_count": null,
   "id": "following-mills",
   "metadata": {},
   "outputs": [],
   "source": [
    "# frame.to_csv(\"figshareairline/combined_data.csv\")\")"
   ]
  },
  {
   "cell_type": "markdown",
   "id": "permanent-robert",
   "metadata": {
    "hideCode": false,
    "hidePrompt": false
   },
   "source": [
    "#### TODO:\n",
    "\n",
    "Run time and memory Usage:"
   ]
  },
  {
   "cell_type": "code",
   "execution_count": null,
   "id": "elementary-convergence",
   "metadata": {},
   "outputs": [],
   "source": []
  }
 ],
 "metadata": {
  "hide_code_all_hidden": false,
  "kernelspec": {
   "display_name": "Python [conda env:525]",
   "language": "python",
   "name": "conda-env-525-py"
  },
  "language_info": {
   "codemirror_mode": {
    "name": "ipython",
    "version": 3
   },
   "file_extension": ".py",
   "mimetype": "text/x-python",
   "name": "python",
   "nbconvert_exporter": "python",
   "pygments_lexer": "ipython3",
   "version": "3.9.2"
  }
 },
 "nbformat": 4,
 "nbformat_minor": 5
}
