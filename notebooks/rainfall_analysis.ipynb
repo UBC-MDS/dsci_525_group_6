{
 "cells": [
  {
   "cell_type": "code",
   "execution_count": 17,
   "id": "interpreted-identifier",
   "metadata": {},
   "outputs": [],
   "source": [
    "import requests\n",
    "import zipfile"
   ]
  },
  {
   "cell_type": "code",
   "execution_count": 7,
   "id": "gentle-violation",
   "metadata": {},
   "outputs": [],
   "source": [
    "file_id = 26766812\n",
    "x = requests.get(f'https://api.figshare.com/v2/file/download/{file_id}')"
   ]
  },
  {
   "cell_type": "code",
   "execution_count": 16,
   "id": "consistent-fundamentals",
   "metadata": {},
   "outputs": [
    {
     "data": {
      "text/plain": [
       "814041183"
      ]
     },
     "execution_count": 16,
     "metadata": {},
     "output_type": "execute_result"
    }
   ],
   "source": [
    "open('data.zip', 'wb').write(x.content)"
   ]
  },
  {
   "cell_type": "code",
   "execution_count": 19,
   "id": "changed-cleanup",
   "metadata": {},
   "outputs": [],
   "source": [
    "with zipfile.ZipFile('data.zip', 'r') as zip_ref:\n",
    "    zip_ref.extractall('data_extracted')"
   ]
  },
  {
   "cell_type": "code",
   "execution_count": 20,
   "id": "prescribed-slovakia",
   "metadata": {},
   "outputs": [],
   "source": [
    "import glob"
   ]
  },
  {
   "cell_type": "code",
   "execution_count": 21,
   "id": "plain-climb",
   "metadata": {},
   "outputs": [],
   "source": [
    "csvfiles = []\n",
    "for file in glob.glob(\"data_extracted/*.csv\"):\n",
    "    csvfiles.append(file)"
   ]
  },
  {
   "cell_type": "code",
   "execution_count": 22,
   "id": "directed-kelly",
   "metadata": {},
   "outputs": [
    {
     "data": {
      "text/plain": [
       "['data_extracted/MPI-ESM1-2-HR_daily_rainfall_NSW.csv',\n",
       " 'data_extracted/ACCESS-CM2_daily_rainfall_NSW.csv',\n",
       " 'data_extracted/SAM0-UNICON_daily_rainfall_NSW.csv',\n",
       " 'data_extracted/EC-Earth3-Veg-LR_daily_rainfall_NSW.csv',\n",
       " 'data_extracted/NorESM2-MM_daily_rainfall_NSW.csv',\n",
       " 'data_extracted/NESM3_daily_rainfall_NSW.csv',\n",
       " 'data_extracted/BCC-CSM2-MR_daily_rainfall_NSW.csv',\n",
       " 'data_extracted/MRI-ESM2-0_daily_rainfall_NSW.csv',\n",
       " 'data_extracted/NorESM2-LM_daily_rainfall_NSW.csv',\n",
       " 'data_extracted/GFDL-ESM4_daily_rainfall_NSW.csv',\n",
       " 'data_extracted/KIOST-ESM_daily_rainfall_NSW.csv',\n",
       " 'data_extracted/GFDL-CM4_daily_rainfall_NSW.csv',\n",
       " 'data_extracted/CMCC-ESM2_daily_rainfall_NSW.csv',\n",
       " 'data_extracted/MPI-ESM-1-2-HAM_daily_rainfall_NSW.csv',\n",
       " 'data_extracted/CMCC-CM2-SR5_daily_rainfall_NSW.csv',\n",
       " 'data_extracted/FGOALS-f3-L_daily_rainfall_NSW.csv',\n",
       " 'data_extracted/CMCC-CM2-HR4_daily_rainfall_NSW.csv',\n",
       " 'data_extracted/INM-CM4-8_daily_rainfall_NSW.csv',\n",
       " 'data_extracted/observed_daily_rainfall_SYD.csv',\n",
       " 'data_extracted/ACCESS-ESM1-5_daily_rainfall_NSW.csv',\n",
       " 'data_extracted/MIROC6_daily_rainfall_NSW.csv',\n",
       " 'data_extracted/CanESM5_daily_rainfall_NSW.csv',\n",
       " 'data_extracted/BCC-ESM1_daily_rainfall_NSW.csv',\n",
       " 'data_extracted/INM-CM5-0_daily_rainfall_NSW.csv',\n",
       " 'data_extracted/MPI-ESM1-2-LR_daily_rainfall_NSW.csv',\n",
       " 'data_extracted/FGOALS-g3_daily_rainfall_NSW.csv',\n",
       " 'data_extracted/TaiESM1_daily_rainfall_NSW.csv',\n",
       " 'data_extracted/AWI-ESM-1-1-LR_daily_rainfall_NSW.csv']"
      ]
     },
     "execution_count": 22,
     "metadata": {},
     "output_type": "execute_result"
    }
   ],
   "source": [
    "csvfiles"
   ]
  },
  {
   "cell_type": "code",
   "execution_count": null,
   "id": "searching-cache",
   "metadata": {},
   "outputs": [],
   "source": [
    "csvfilesnames = []\n",
    "for csvfile in csvfiles:\n",
    "    csv"
   ]
  }
 ],
 "metadata": {
  "kernelspec": {
   "display_name": "Python 3",
   "language": "python",
   "name": "python3"
  },
  "language_info": {
   "codemirror_mode": {
    "name": "ipython",
    "version": 3
   },
   "file_extension": ".py",
   "mimetype": "text/x-python",
   "name": "python",
   "nbconvert_exporter": "python",
   "pygments_lexer": "ipython3",
   "version": "3.9.2"
  }
 },
 "nbformat": 4,
 "nbformat_minor": 5
}
