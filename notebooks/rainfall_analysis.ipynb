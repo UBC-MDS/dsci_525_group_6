{
 "cells": [
  {
   "cell_type": "code",
   "execution_count": 1,
   "id": "elect-phenomenon",
   "metadata": {
    "hideCode": false,
    "hidePrompt": false
   },
   "outputs": [],
   "source": [
    "import requests\n",
    "import zipfile\n",
    "import pandas as pd \n",
    "import glob\n",
    "from memory_profiler import memory_usage "
   ]
  },
  {
   "cell_type": "code",
   "execution_count": 2,
   "id": "primary-asbestos",
   "metadata": {
    "hideCode": false,
    "hidePrompt": false
   },
   "outputs": [],
   "source": [
    "import os"
   ]
  },
  {
   "cell_type": "code",
   "execution_count": 3,
   "id": "correct-august",
   "metadata": {
    "hideCode": false,
    "hidePrompt": false
   },
   "outputs": [
    {
     "name": "stderr",
     "output_type": "stream",
     "text": [
      "D:\\Anaconda3\\envs\\525\\lib\\site-packages\\rpy2\\robjects\\packages.py:366: UserWarning: The symbol 'quartz' is not in this R namespace/package.\n",
      "  warnings.warn(\n"
     ]
    }
   ],
   "source": [
    "%load_ext rpy2.ipython \n",
    "%load_ext memory_profiler "
   ]
  },
  {
   "cell_type": "markdown",
   "id": "invalid-macedonia",
   "metadata": {},
   "source": [
    "### Downloading the data"
   ]
  },
  {
   "cell_type": "code",
   "execution_count": 5,
   "id": "hungarian-frank",
   "metadata": {
    "hideCode": false,
    "hidePrompt": false
   },
   "outputs": [],
   "source": [
    "file_id = 26766812\n",
    "x = requests.get(f'https://api.figshare.com/v2/file/download/{file_id}')"
   ]
  },
  {
   "cell_type": "code",
   "execution_count": 6,
   "id": "stylish-dubai",
   "metadata": {
    "hideCode": false,
    "hidePrompt": false
   },
   "outputs": [
    {
     "data": {
      "text/plain": [
       "814041183"
      ]
     },
     "execution_count": 6,
     "metadata": {},
     "output_type": "execute_result"
    }
   ],
   "source": [
    "open('data.zip', 'wb').write(x.content)"
   ]
  },
  {
   "cell_type": "code",
   "execution_count": 7,
   "id": "convinced-apollo",
   "metadata": {
    "hideCode": false,
    "hidePrompt": false
   },
   "outputs": [],
   "source": [
    "with zipfile.ZipFile('data.zip', 'r') as zip_ref:\n",
    "    zip_ref.extractall('data_extracted')"
   ]
  },
  {
   "cell_type": "code",
   "execution_count": 26,
   "id": "republican-wrapping",
   "metadata": {
    "hideCode": false,
    "hidePrompt": false
   },
   "outputs": [
    {
     "data": {
      "text/plain": [
       "['ACCESS-CM2_daily_rainfall_NSW.csv',\n",
       " 'ACCESS-ESM1-5_daily_rainfall_NSW.csv',\n",
       " 'AWI-ESM-1-1-LR_daily_rainfall_NSW.csv',\n",
       " 'BCC-CSM2-MR_daily_rainfall_NSW.csv',\n",
       " 'BCC-ESM1_daily_rainfall_NSW.csv',\n",
       " 'CanESM5_daily_rainfall_NSW.csv',\n",
       " 'CMCC-CM2-HR4_daily_rainfall_NSW.csv',\n",
       " 'CMCC-CM2-SR5_daily_rainfall_NSW.csv',\n",
       " 'CMCC-ESM2_daily_rainfall_NSW.csv',\n",
       " 'EC-Earth3-Veg-LR_daily_rainfall_NSW.csv',\n",
       " 'FGOALS-f3-L_daily_rainfall_NSW.csv',\n",
       " 'FGOALS-g3_daily_rainfall_NSW.csv',\n",
       " 'GFDL-CM4_daily_rainfall_NSW.csv',\n",
       " 'GFDL-ESM4_daily_rainfall_NSW.csv',\n",
       " 'INM-CM4-8_daily_rainfall_NSW.csv',\n",
       " 'INM-CM5-0_daily_rainfall_NSW.csv',\n",
       " 'KIOST-ESM_daily_rainfall_NSW.csv',\n",
       " 'MIROC6_daily_rainfall_NSW.csv',\n",
       " 'MPI-ESM-1-2-HAM_daily_rainfall_NSW.csv',\n",
       " 'MPI-ESM1-2-HR_daily_rainfall_NSW.csv',\n",
       " 'MPI-ESM1-2-LR_daily_rainfall_NSW.csv',\n",
       " 'MRI-ESM2-0_daily_rainfall_NSW.csv',\n",
       " 'NESM3_daily_rainfall_NSW.csv',\n",
       " 'NorESM2-LM_daily_rainfall_NSW.csv',\n",
       " 'NorESM2-MM_daily_rainfall_NSW.csv',\n",
       " 'observed_daily_rainfall_SYD.csv',\n",
       " 'SAM0-UNICON_daily_rainfall_NSW.csv',\n",
       " 'TaiESM1_daily_rainfall_NSW.csv']"
      ]
     },
     "execution_count": 26,
     "metadata": {},
     "output_type": "execute_result"
    }
   ],
   "source": [
    "[file for file in os.listdir(\"data_extracted\") if \".csv\" in file]"
   ]
  },
  {
   "cell_type": "code",
   "execution_count": 27,
   "id": "psychological-madness",
   "metadata": {},
   "outputs": [],
   "source": [
    "csvfiles =  [file for file in os.listdir(\"data_extracted\") if \".csv\" in file]"
   ]
  },
  {
   "cell_type": "code",
   "execution_count": 28,
   "id": "hazardous-fireplace",
   "metadata": {
    "hideCode": false,
    "hidePrompt": false
   },
   "outputs": [
    {
     "data": {
      "text/plain": [
       "['ACCESS-CM2_daily_rainfall_NSW.csv',\n",
       " 'ACCESS-ESM1-5_daily_rainfall_NSW.csv',\n",
       " 'AWI-ESM-1-1-LR_daily_rainfall_NSW.csv',\n",
       " 'BCC-CSM2-MR_daily_rainfall_NSW.csv',\n",
       " 'BCC-ESM1_daily_rainfall_NSW.csv',\n",
       " 'CanESM5_daily_rainfall_NSW.csv',\n",
       " 'CMCC-CM2-HR4_daily_rainfall_NSW.csv',\n",
       " 'CMCC-CM2-SR5_daily_rainfall_NSW.csv',\n",
       " 'CMCC-ESM2_daily_rainfall_NSW.csv',\n",
       " 'EC-Earth3-Veg-LR_daily_rainfall_NSW.csv',\n",
       " 'FGOALS-f3-L_daily_rainfall_NSW.csv',\n",
       " 'FGOALS-g3_daily_rainfall_NSW.csv',\n",
       " 'GFDL-CM4_daily_rainfall_NSW.csv',\n",
       " 'GFDL-ESM4_daily_rainfall_NSW.csv',\n",
       " 'INM-CM4-8_daily_rainfall_NSW.csv',\n",
       " 'INM-CM5-0_daily_rainfall_NSW.csv',\n",
       " 'KIOST-ESM_daily_rainfall_NSW.csv',\n",
       " 'MIROC6_daily_rainfall_NSW.csv',\n",
       " 'MPI-ESM-1-2-HAM_daily_rainfall_NSW.csv',\n",
       " 'MPI-ESM1-2-HR_daily_rainfall_NSW.csv',\n",
       " 'MPI-ESM1-2-LR_daily_rainfall_NSW.csv',\n",
       " 'MRI-ESM2-0_daily_rainfall_NSW.csv',\n",
       " 'NESM3_daily_rainfall_NSW.csv',\n",
       " 'NorESM2-LM_daily_rainfall_NSW.csv',\n",
       " 'NorESM2-MM_daily_rainfall_NSW.csv',\n",
       " 'observed_daily_rainfall_SYD.csv',\n",
       " 'SAM0-UNICON_daily_rainfall_NSW.csv',\n",
       " 'TaiESM1_daily_rainfall_NSW.csv']"
      ]
     },
     "execution_count": 28,
     "metadata": {},
     "output_type": "execute_result"
    }
   ],
   "source": [
    "csvfiles"
   ]
  },
  {
   "cell_type": "markdown",
   "id": "sticky-mayor",
   "metadata": {},
   "source": [
    "### Combining data CSVs"
   ]
  },
  {
   "cell_type": "code",
   "execution_count": 30,
   "id": "abandoned-jamaica",
   "metadata": {
    "hideCode": false,
    "hidePrompt": false
   },
   "outputs": [
    {
     "name": "stdout",
     "output_type": "stream",
     "text": [
      "peak memory: 1061.02 MiB, increment: 0.00 MiB\n",
      "Wall time: 1min 51s\n"
     ]
    }
   ],
   "source": [
    "%%time\n",
    "%memit\n",
    "big_df = []\n",
    "for csvfile in csvfiles:\n",
    "    df = pd.read_csv(\"./data_extracted/\"+csvfile, index_col=None, header=0)\n",
    "    df['model'] = csvfile.split(\"_\")[0] \n",
    "    big_df.append(df)\n",
    "\n",
    "frame = pd.concat(big_df, axis=0, ignore_index=True)"
   ]
  },
  {
   "cell_type": "code",
   "execution_count": 31,
   "id": "developmental-greene",
   "metadata": {
    "hideCode": false,
    "hidePrompt": false
   },
   "outputs": [
    {
     "data": {
      "text/html": [
       "<div>\n",
       "<style scoped>\n",
       "    .dataframe tbody tr th:only-of-type {\n",
       "        vertical-align: middle;\n",
       "    }\n",
       "\n",
       "    .dataframe tbody tr th {\n",
       "        vertical-align: top;\n",
       "    }\n",
       "\n",
       "    .dataframe thead th {\n",
       "        text-align: right;\n",
       "    }\n",
       "</style>\n",
       "<table border=\"1\" class=\"dataframe\">\n",
       "  <thead>\n",
       "    <tr style=\"text-align: right;\">\n",
       "      <th></th>\n",
       "      <th>time</th>\n",
       "      <th>lat_min</th>\n",
       "      <th>lat_max</th>\n",
       "      <th>lon_min</th>\n",
       "      <th>lon_max</th>\n",
       "      <th>rain (mm/day)</th>\n",
       "      <th>model</th>\n",
       "    </tr>\n",
       "  </thead>\n",
       "  <tbody>\n",
       "    <tr>\n",
       "      <th>0</th>\n",
       "      <td>1889-01-01 12:00:00</td>\n",
       "      <td>-36.250000</td>\n",
       "      <td>-35.00000</td>\n",
       "      <td>140.625</td>\n",
       "      <td>142.500</td>\n",
       "      <td>3.293256e-13</td>\n",
       "      <td>ACCESS-CM2</td>\n",
       "    </tr>\n",
       "    <tr>\n",
       "      <th>1</th>\n",
       "      <td>1889-01-02 12:00:00</td>\n",
       "      <td>-36.250000</td>\n",
       "      <td>-35.00000</td>\n",
       "      <td>140.625</td>\n",
       "      <td>142.500</td>\n",
       "      <td>0.000000e+00</td>\n",
       "      <td>ACCESS-CM2</td>\n",
       "    </tr>\n",
       "    <tr>\n",
       "      <th>2</th>\n",
       "      <td>1889-01-03 12:00:00</td>\n",
       "      <td>-36.250000</td>\n",
       "      <td>-35.00000</td>\n",
       "      <td>140.625</td>\n",
       "      <td>142.500</td>\n",
       "      <td>0.000000e+00</td>\n",
       "      <td>ACCESS-CM2</td>\n",
       "    </tr>\n",
       "    <tr>\n",
       "      <th>3</th>\n",
       "      <td>1889-01-04 12:00:00</td>\n",
       "      <td>-36.250000</td>\n",
       "      <td>-35.00000</td>\n",
       "      <td>140.625</td>\n",
       "      <td>142.500</td>\n",
       "      <td>0.000000e+00</td>\n",
       "      <td>ACCESS-CM2</td>\n",
       "    </tr>\n",
       "    <tr>\n",
       "      <th>4</th>\n",
       "      <td>1889-01-05 12:00:00</td>\n",
       "      <td>-36.250000</td>\n",
       "      <td>-35.00000</td>\n",
       "      <td>140.625</td>\n",
       "      <td>142.500</td>\n",
       "      <td>1.047658e-02</td>\n",
       "      <td>ACCESS-CM2</td>\n",
       "    </tr>\n",
       "    <tr>\n",
       "      <th>...</th>\n",
       "      <td>...</td>\n",
       "      <td>...</td>\n",
       "      <td>...</td>\n",
       "      <td>...</td>\n",
       "      <td>...</td>\n",
       "      <td>...</td>\n",
       "      <td>...</td>\n",
       "    </tr>\n",
       "    <tr>\n",
       "      <th>62513858</th>\n",
       "      <td>2014-12-27 12:00:00</td>\n",
       "      <td>-30.157068</td>\n",
       "      <td>-29.21466</td>\n",
       "      <td>153.125</td>\n",
       "      <td>154.375</td>\n",
       "      <td>5.543748e-01</td>\n",
       "      <td>TaiESM1</td>\n",
       "    </tr>\n",
       "    <tr>\n",
       "      <th>62513859</th>\n",
       "      <td>2014-12-28 12:00:00</td>\n",
       "      <td>-30.157068</td>\n",
       "      <td>-29.21466</td>\n",
       "      <td>153.125</td>\n",
       "      <td>154.375</td>\n",
       "      <td>7.028577e+00</td>\n",
       "      <td>TaiESM1</td>\n",
       "    </tr>\n",
       "    <tr>\n",
       "      <th>62513860</th>\n",
       "      <td>2014-12-29 12:00:00</td>\n",
       "      <td>-30.157068</td>\n",
       "      <td>-29.21466</td>\n",
       "      <td>153.125</td>\n",
       "      <td>154.375</td>\n",
       "      <td>2.347570e-01</td>\n",
       "      <td>TaiESM1</td>\n",
       "    </tr>\n",
       "    <tr>\n",
       "      <th>62513861</th>\n",
       "      <td>2014-12-30 12:00:00</td>\n",
       "      <td>-30.157068</td>\n",
       "      <td>-29.21466</td>\n",
       "      <td>153.125</td>\n",
       "      <td>154.375</td>\n",
       "      <td>2.097459e+00</td>\n",
       "      <td>TaiESM1</td>\n",
       "    </tr>\n",
       "    <tr>\n",
       "      <th>62513862</th>\n",
       "      <td>2014-12-31 12:00:00</td>\n",
       "      <td>-30.157068</td>\n",
       "      <td>-29.21466</td>\n",
       "      <td>153.125</td>\n",
       "      <td>154.375</td>\n",
       "      <td>5.484206e-01</td>\n",
       "      <td>TaiESM1</td>\n",
       "    </tr>\n",
       "  </tbody>\n",
       "</table>\n",
       "<p>62513863 rows × 7 columns</p>\n",
       "</div>"
      ],
      "text/plain": [
       "                         time    lat_min   lat_max  lon_min  lon_max  \\\n",
       "0         1889-01-01 12:00:00 -36.250000 -35.00000  140.625  142.500   \n",
       "1         1889-01-02 12:00:00 -36.250000 -35.00000  140.625  142.500   \n",
       "2         1889-01-03 12:00:00 -36.250000 -35.00000  140.625  142.500   \n",
       "3         1889-01-04 12:00:00 -36.250000 -35.00000  140.625  142.500   \n",
       "4         1889-01-05 12:00:00 -36.250000 -35.00000  140.625  142.500   \n",
       "...                       ...        ...       ...      ...      ...   \n",
       "62513858  2014-12-27 12:00:00 -30.157068 -29.21466  153.125  154.375   \n",
       "62513859  2014-12-28 12:00:00 -30.157068 -29.21466  153.125  154.375   \n",
       "62513860  2014-12-29 12:00:00 -30.157068 -29.21466  153.125  154.375   \n",
       "62513861  2014-12-30 12:00:00 -30.157068 -29.21466  153.125  154.375   \n",
       "62513862  2014-12-31 12:00:00 -30.157068 -29.21466  153.125  154.375   \n",
       "\n",
       "          rain (mm/day)       model  \n",
       "0          3.293256e-13  ACCESS-CM2  \n",
       "1          0.000000e+00  ACCESS-CM2  \n",
       "2          0.000000e+00  ACCESS-CM2  \n",
       "3          0.000000e+00  ACCESS-CM2  \n",
       "4          1.047658e-02  ACCESS-CM2  \n",
       "...                 ...         ...  \n",
       "62513858   5.543748e-01     TaiESM1  \n",
       "62513859   7.028577e+00     TaiESM1  \n",
       "62513860   2.347570e-01     TaiESM1  \n",
       "62513861   2.097459e+00     TaiESM1  \n",
       "62513862   5.484206e-01     TaiESM1  \n",
       "\n",
       "[62513863 rows x 7 columns]"
      ]
     },
     "execution_count": 31,
     "metadata": {},
     "output_type": "execute_result"
    }
   ],
   "source": [
    "frame"
   ]
  },
  {
   "cell_type": "code",
   "execution_count": 32,
   "id": "sensitive-legislation",
   "metadata": {},
   "outputs": [
    {
     "name": "stdout",
     "output_type": "stream",
     "text": [
      "combined_data.csv file saved!\n"
     ]
    }
   ],
   "source": [
    "frame.to_csv(\"combined_data.csv\")\n",
    "print(\"combined_data.csv file saved!\")"
   ]
  },
  {
   "cell_type": "markdown",
   "id": "governing-republican",
   "metadata": {
    "hideCode": false,
    "hidePrompt": false
   },
   "source": [
    "#### Run time and memory Usage Discussion:\n",
    "\n",
    "peak memory: 1061.02 MiB, increment: 0.00 MiB\n",
    "Wall time: 1min 51s\n",
    "\n",
    "peak memory: 151.94 MiB, increment: 0.08 MiB\n",
    "CPU times: user 48 s, sys: 5.18 s, total: 53.2 s\n",
    "Wall time: 55.6 s\n",
    "\n",
    "peak memory: 935.61 MiB, increment: 0.11 MiB\n",
    "CPU times: user 56.5 s, sys: 3.65 s, total: 1min\n",
    "Wall time: 1min\n",
    "\n",
    "peak memory: 1018.20 MiB, increment: 0.19 MiB\n",
    "CPU times: user 1min 2s, sys: 12 s, total: 1min 14s\n",
    "Wall time: 1min 20s\n",
    "\n",
    "#### Discussion:\n",
    "\n",
    "Running the combining data process is very RAM intensive. Our computers took around 1min to run and the peak memory usage was around 1000 MB."
   ]
  },
  {
   "cell_type": "markdown",
   "id": "emerging-wisconsin",
   "metadata": {},
   "source": [
    "### Load the combined CSV to memory and perform a simple EDA\n",
    "1. Investigate at least two of the following approaches to reduce memory usage while performing the EDA (e.g., value_counts).\n",
    "* Changing dtype of your data\n",
    "* Load just columns what we want\n",
    "* Loading in chunks\n",
    "* Dask\n",
    "\n",
    "2. Discuss your observations."
   ]
  },
  {
   "cell_type": "code",
   "execution_count": 4,
   "id": "lucky-performance",
   "metadata": {},
   "outputs": [],
   "source": [
    "import dask.dataframe as dd"
   ]
  },
  {
   "cell_type": "markdown",
   "id": "artistic-spine",
   "metadata": {},
   "source": [
    "#### Loading in chunks for counting the model column"
   ]
  },
  {
   "cell_type": "code",
   "execution_count": 5,
   "id": "living-example",
   "metadata": {},
   "outputs": [
    {
     "name": "stdout",
     "output_type": "stream",
     "text": [
      "ACCESS-CM2          1932840\n",
      "ACCESS-ESM1-5       1610700\n",
      "AWI-ESM-1-1-LR       966420\n",
      "BCC-CSM2-MR         3035340\n",
      "BCC-ESM1             551880\n",
      "CMCC-CM2-HR4        3541230\n",
      "CMCC-CM2-SR5        3541230\n",
      "CMCC-ESM2           3541230\n",
      "CanESM5              551880\n",
      "EC-Earth3-Veg-LR    3037320\n",
      "FGOALS-f3-L         3219300\n",
      "FGOALS-g3           1287720\n",
      "GFDL-CM4            3219300\n",
      "GFDL-ESM4           3219300\n",
      "INM-CM4-8           1609650\n",
      "INM-CM5-0           1609650\n",
      "KIOST-ESM           1287720\n",
      "MIROC6              2070900\n",
      "MPI-ESM-1-2-HAM      966420\n",
      "MPI-ESM1-2-HR       5154240\n",
      "MPI-ESM1-2-LR        966420\n",
      "MRI-ESM2-0          3037320\n",
      "NESM3                966420\n",
      "NorESM2-LM           919800\n",
      "NorESM2-MM          3541230\n",
      "SAM0-UNICON         3541153\n",
      "TaiESM1             3541230\n",
      "observed              46020\n",
      "dtype: int32\n",
      "peak memory: 3078.15 MiB, increment: 2934.44 MiB\n",
      "Wall time: 1min 59s\n"
     ]
    }
   ],
   "source": [
    "%%time\n",
    "%%memit\n",
    "counts = pd.Series(dtype=int)\n",
    "for chunk in pd.read_csv(\"combined_data.csv\", chunksize=10_000_000):\n",
    "    counts = counts.add(chunk[\"model\"].value_counts(), fill_value=0)\n",
    "print(counts.astype(int))"
   ]
  },
  {
   "cell_type": "markdown",
   "id": "confused-referral",
   "metadata": {},
   "source": [
    "#### Loading only the column we want for the EDA, which is the model column"
   ]
  },
  {
   "cell_type": "code",
   "execution_count": 7,
   "id": "early-batch",
   "metadata": {},
   "outputs": [
    {
     "name": "stdout",
     "output_type": "stream",
     "text": [
      "MPI-ESM1-2-HR       5154240\n",
      "CMCC-CM2-SR5        3541230\n",
      "CMCC-ESM2           3541230\n",
      "CMCC-CM2-HR4        3541230\n",
      "NorESM2-MM          3541230\n",
      "TaiESM1             3541230\n",
      "SAM0-UNICON         3541153\n",
      "GFDL-ESM4           3219300\n",
      "GFDL-CM4            3219300\n",
      "FGOALS-f3-L         3219300\n",
      "MRI-ESM2-0          3037320\n",
      "EC-Earth3-Veg-LR    3037320\n",
      "BCC-CSM2-MR         3035340\n",
      "MIROC6              2070900\n",
      "ACCESS-CM2          1932840\n",
      "ACCESS-ESM1-5       1610700\n",
      "INM-CM4-8           1609650\n",
      "INM-CM5-0           1609650\n",
      "KIOST-ESM           1287720\n",
      "FGOALS-g3           1287720\n",
      "NESM3                966420\n",
      "MPI-ESM-1-2-HAM      966420\n",
      "MPI-ESM1-2-LR        966420\n",
      "AWI-ESM-1-1-LR       966420\n",
      "NorESM2-LM           919800\n",
      "CanESM5              551880\n",
      "BCC-ESM1             551880\n",
      "observed              46020\n",
      "Name: model, dtype: int64\n",
      "peak memory: 1424.96 MiB, increment: 953.43 MiB\n",
      "Wall time: 1min 1s\n"
     ]
    }
   ],
   "source": [
    "%%time\n",
    "%%memit\n",
    "data = pd.read_csv(\"combined_data.csv\",usecols=[\"model\"])\n",
    "print(data[\"model\"].value_counts())"
   ]
  },
  {
   "cell_type": "markdown",
   "id": "entertaining-australian",
   "metadata": {},
   "source": [
    "#### Loading using Dask"
   ]
  },
  {
   "cell_type": "code",
   "execution_count": 8,
   "id": "surrounded-equivalent",
   "metadata": {},
   "outputs": [
    {
     "name": "stdout",
     "output_type": "stream",
     "text": [
      "MPI-ESM1-2-HR       5154240\n",
      "TaiESM1             3541230\n",
      "CMCC-CM2-HR4        3541230\n",
      "CMCC-CM2-SR5        3541230\n",
      "CMCC-ESM2           3541230\n",
      "NorESM2-MM          3541230\n",
      "SAM0-UNICON         3541153\n",
      "FGOALS-f3-L         3219300\n",
      "GFDL-CM4            3219300\n",
      "GFDL-ESM4           3219300\n",
      "EC-Earth3-Veg-LR    3037320\n",
      "MRI-ESM2-0          3037320\n",
      "BCC-CSM2-MR         3035340\n",
      "MIROC6              2070900\n",
      "ACCESS-CM2          1932840\n",
      "ACCESS-ESM1-5       1610700\n",
      "INM-CM4-8           1609650\n",
      "INM-CM5-0           1609650\n",
      "KIOST-ESM           1287720\n",
      "FGOALS-g3           1287720\n",
      "MPI-ESM-1-2-HAM      966420\n",
      "MPI-ESM1-2-LR        966420\n",
      "NESM3                966420\n",
      "AWI-ESM-1-1-LR       966420\n",
      "NorESM2-LM           919800\n",
      "CanESM5              551880\n",
      "BCC-ESM1             551880\n",
      "observed              46020\n",
      "Name: model, dtype: int64\n",
      "peak memory: 1943.04 MiB, increment: 995.03 MiB\n",
      "Wall time: 1min 2s\n"
     ]
    }
   ],
   "source": [
    "%%time\n",
    "%%memit\n",
    "\n",
    "ddf = dd.read_csv('combined_data.csv')\n",
    "print(ddf[\"model\"].value_counts().compute())"
   ]
  },
  {
   "cell_type": "markdown",
   "id": "public-battlefield",
   "metadata": {},
   "source": [
    "### Discussion\n",
    "\n",
    "In this section, we experimented with loading using chunk size of 10,000,000, loading using only the column we wanted, and loading using Dask.  \n",
    "\n",
    "Comparing the results:\n",
    "* Loading using chunk size of 10,000,000:  \n",
    "peak memory: 3078.15 MiB, increment: 2934.44 MiB\n",
    "Wall time: 1min 59s\n",
    "\n",
    "* Loading using only the column we wanted:  \n",
    "peak memory: 1424.96 MiB, increment: 953.43 MiB\n",
    "Wall time: 1min 1s\n",
    "\n",
    "* Loading using Dask:  \n",
    "peak memory: 1943.04 MiB, increment: 995.03 MiB\n",
    "Wall time: 1min 2s\n",
    "\n",
    "From the above runtime stats, we can observe that loading using chunk size takes the most of the memory and longer wall time comparing to loading using only the column we wanted and loading using Dask. Loading using only the column we wanted has the minimal number of peak memory usage and wall time comparing to loading using Dask.\n"
   ]
  },
  {
   "cell_type": "markdown",
   "id": "tribal-participant",
   "metadata": {},
   "source": [
    "### Perform a simple EDA in R\n",
    "\n",
    "Pick an approach to transfer the dataframe from python to R.\n",
    "* Parquet file\n",
    "* Feather file (We chose this one)\n",
    "* Pandas exchange\n",
    "* Arrow exchange\n",
    "\n",
    "### Discuss why you chose this approach over others.\n",
    "\n",
    "From the lecture notes, feather is faster than the parquet or arrow format in writing to files. We picked it because it's convenient to use and it's very common to use feather with R programming language."
   ]
  },
  {
   "cell_type": "code",
   "execution_count": 4,
   "id": "studied-night",
   "metadata": {},
   "outputs": [],
   "source": [
    "import pyarrow.dataset as ds\n",
    "import pyarrow as pa\n",
    "import pyarrow.parquet as pq\n",
    "import rpy2.rinterface\n",
    "import rpy2_arrow.pyarrow_rarrow as pyra\n",
    "import pyarrow.feather as feather"
   ]
  },
  {
   "cell_type": "code",
   "execution_count": 5,
   "id": "geographic-authorization",
   "metadata": {},
   "outputs": [
    {
     "name": "stderr",
     "output_type": "stream",
     "text": [
      "R[write to console]: Registered S3 methods overwritten by 'tibble':\n",
      "  method     from  \n",
      "  format.tbl pillar\n",
      "  print.tbl  pillar\n",
      "\n",
      "R[write to console]: \n",
      "Attaching package: 'dplyr'\n",
      "\n",
      "\n",
      "R[write to console]: The following objects are masked from 'package:stats':\n",
      "\n",
      "    filter, lag\n",
      "\n",
      "\n",
      "R[write to console]: The following objects are masked from 'package:base':\n",
      "\n",
      "    intersect, setdiff, setequal, union\n",
      "\n",
      "\n"
     ]
    }
   ],
   "source": [
    "%%R\n",
    "#just seeing if its available\n",
    "library(\"arrow\")\n",
    "library(\"dplyr\")"
   ]
  },
  {
   "cell_type": "code",
   "execution_count": 6,
   "id": "possible-artist",
   "metadata": {},
   "outputs": [
    {
     "name": "stdout",
     "output_type": "stream",
     "text": [
      "peak memory: 4653.75 MiB, increment: 4378.27 MiB\n",
      "Wall time: 1min 42s\n"
     ]
    }
   ],
   "source": [
    "%%time\n",
    "%%memit\n",
    "\n",
    "dataset = ds.dataset(\"combined_data.csv\", format=\"csv\")\n",
    "table = dataset.to_table()"
   ]
  },
  {
   "cell_type": "code",
   "execution_count": 7,
   "id": "worldwide-diana",
   "metadata": {},
   "outputs": [
    {
     "name": "stdout",
     "output_type": "stream",
     "text": [
      "Wall time: 10.9 s\n"
     ]
    }
   ],
   "source": [
    "%%time\n",
    "\n",
    "# experiment in writing in feather format \n",
    "feather.write_feather(table, 'combined_data.feather')"
   ]
  },
  {
   "cell_type": "code",
   "execution_count": 6,
   "id": "antique-arthritis",
   "metadata": {
    "scrolled": false
   },
   "outputs": [
    {
     "name": "stdout",
     "output_type": "stream",
     "text": [
      "[1] \"tbl_df\"     \"tbl\"        \"data.frame\"\n",
      "Time difference of 4.992996 secs\n",
      "\u001b[38;5;246m# A tibble: 28 x 2\u001b[39m\n",
      "   model                  n\n",
      " \u001b[38;5;250m*\u001b[39m \u001b[3m\u001b[38;5;246m<chr>\u001b[39m\u001b[23m              \u001b[3m\u001b[38;5;246m<int>\u001b[39m\u001b[23m\n",
      "\u001b[38;5;250m 1\u001b[39m ACCESS-CM2       1\u001b[4m9\u001b[24m\u001b[4m3\u001b[24m\u001b[4m2\u001b[24m840\n",
      "\u001b[38;5;250m 2\u001b[39m ACCESS-ESM1-5    1\u001b[4m6\u001b[24m\u001b[4m1\u001b[24m\u001b[4m0\u001b[24m700\n",
      "\u001b[38;5;250m 3\u001b[39m AWI-ESM-1-1-LR    \u001b[4m9\u001b[24m\u001b[4m6\u001b[24m\u001b[4m6\u001b[24m420\n",
      "\u001b[38;5;250m 4\u001b[39m BCC-CSM2-MR      3\u001b[4m0\u001b[24m\u001b[4m3\u001b[24m\u001b[4m5\u001b[24m340\n",
      "\u001b[38;5;250m 5\u001b[39m BCC-ESM1          \u001b[4m5\u001b[24m\u001b[4m5\u001b[24m\u001b[4m1\u001b[24m880\n",
      "\u001b[38;5;250m 6\u001b[39m CanESM5           \u001b[4m5\u001b[24m\u001b[4m5\u001b[24m\u001b[4m1\u001b[24m880\n",
      "\u001b[38;5;250m 7\u001b[39m CMCC-CM2-HR4     3\u001b[4m5\u001b[24m\u001b[4m4\u001b[24m\u001b[4m1\u001b[24m230\n",
      "\u001b[38;5;250m 8\u001b[39m CMCC-CM2-SR5     3\u001b[4m5\u001b[24m\u001b[4m4\u001b[24m\u001b[4m1\u001b[24m230\n",
      "\u001b[38;5;250m 9\u001b[39m CMCC-ESM2        3\u001b[4m5\u001b[24m\u001b[4m4\u001b[24m\u001b[4m1\u001b[24m230\n",
      "\u001b[38;5;250m10\u001b[39m EC-Earth3-Veg-LR 3\u001b[4m0\u001b[24m\u001b[4m3\u001b[24m\u001b[4m7\u001b[24m320\n",
      "\u001b[38;5;246m# ... with 18 more rows\u001b[39m\n",
      "Wall time: 5.47 s\n"
     ]
    }
   ],
   "source": [
    "%%time\n",
    "%%R\n",
    "\n",
    "### here we are showing how much time it took to read a feather file what we wrote in python\n",
    "library(arrow)\n",
    "start_time <- Sys.time()\n",
    "r_table <- arrow::read_feather(\"combined_data.feather\", col_select=c(\"model\"))\n",
    "print(class(r_table))\n",
    "library(dplyr)\n",
    "result <- count(r_table, model)\n",
    "end_time <- Sys.time()\n",
    "print(end_time - start_time)\n",
    "print(result)"
   ]
  }
 ],
 "metadata": {
  "hide_code_all_hidden": false,
  "kernelspec": {
   "display_name": "Python [conda env:525]",
   "language": "python",
   "name": "conda-env-525-py"
  },
  "language_info": {
   "codemirror_mode": {
    "name": "ipython",
    "version": 3
   },
   "file_extension": ".py",
   "mimetype": "text/x-python",
   "name": "python",
   "nbconvert_exporter": "python",
   "pygments_lexer": "ipython3",
   "version": "3.9.2"
  }
 },
 "nbformat": 4,
 "nbformat_minor": 5
}
